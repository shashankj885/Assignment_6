{
 "cells": [
  {
   "cell_type": "markdown",
   "id": "c1ebceab",
   "metadata": {},
   "source": [
    "Ans1- An escape character is a backslash \\ followed by the character you want to insert. e.g- \\ -single quote, \\n - New line , \\t - tab"
   ]
  },
  {
   "cell_type": "markdown",
   "id": "8bb32317",
   "metadata": {},
   "source": [
    "Ans 2- \\n - New line , \\t - tab"
   ]
  },
  {
   "cell_type": "markdown",
   "id": "e2d664d0",
   "metadata": {},
   "source": [
    "Ans3-The backslash ( \" \\ \" ) character is a special escape character used to indicate other special characters such as new lines ( \\n ), tabs ( \\t ), or quotation marks ( \\ \" )."
   ]
  },
  {
   "cell_type": "markdown",
   "id": "baf53ac4",
   "metadata": {},
   "source": [
    "Ans4- As string uses \" \" in the beggining and end of the string."
   ]
  },
  {
   "cell_type": "markdown",
   "id": "82e029bd",
   "metadata": {},
   "source": [
    "Ans5- Using f string or using print statetment in different line"
   ]
  },
  {
   "cell_type": "markdown",
   "id": "f6869389",
   "metadata": {},
   "source": [
    "Ans6-"
   ]
  },
  {
   "cell_type": "code",
   "execution_count": 1,
   "id": "6552c3fc",
   "metadata": {},
   "outputs": [
    {
     "data": {
      "text/plain": [
       "'e'"
      ]
     },
     "execution_count": 1,
     "metadata": {},
     "output_type": "execute_result"
    }
   ],
   "source": [
    "\"Hello, world!\"[1]"
   ]
  },
  {
   "cell_type": "code",
   "execution_count": 2,
   "id": "8013a878",
   "metadata": {},
   "outputs": [
    {
     "data": {
      "text/plain": [
       "'Hello'"
      ]
     },
     "execution_count": 2,
     "metadata": {},
     "output_type": "execute_result"
    }
   ],
   "source": [
    "\"Hello, world!\"[0:5]"
   ]
  },
  {
   "cell_type": "code",
   "execution_count": 3,
   "id": "6a879c9a",
   "metadata": {},
   "outputs": [
    {
     "data": {
      "text/plain": [
       "'Hello'"
      ]
     },
     "execution_count": 3,
     "metadata": {},
     "output_type": "execute_result"
    }
   ],
   "source": [
    "\"Hello, world!\"[:5]"
   ]
  },
  {
   "cell_type": "code",
   "execution_count": 4,
   "id": "dab9657c",
   "metadata": {},
   "outputs": [
    {
     "data": {
      "text/plain": [
       "'lo, world!'"
      ]
     },
     "execution_count": 4,
     "metadata": {},
     "output_type": "execute_result"
    }
   ],
   "source": [
    "\"Hello, world!\"[3:]"
   ]
  },
  {
   "cell_type": "markdown",
   "id": "c6f167f8",
   "metadata": {},
   "source": [
    "Ans7-"
   ]
  },
  {
   "cell_type": "code",
   "execution_count": 5,
   "id": "30ef40ec",
   "metadata": {},
   "outputs": [
    {
     "data": {
      "text/plain": [
       "'HELLO'"
      ]
     },
     "execution_count": 5,
     "metadata": {},
     "output_type": "execute_result"
    }
   ],
   "source": [
    "'Hello'.upper()"
   ]
  },
  {
   "cell_type": "code",
   "execution_count": 6,
   "id": "12e7479b",
   "metadata": {},
   "outputs": [
    {
     "data": {
      "text/plain": [
       "True"
      ]
     },
     "execution_count": 6,
     "metadata": {},
     "output_type": "execute_result"
    }
   ],
   "source": [
    "'Hello'.upper().isupper()"
   ]
  },
  {
   "cell_type": "code",
   "execution_count": 7,
   "id": "d7577936",
   "metadata": {},
   "outputs": [
    {
     "data": {
      "text/plain": [
       "'hello'"
      ]
     },
     "execution_count": 7,
     "metadata": {},
     "output_type": "execute_result"
    }
   ],
   "source": [
    "'Hello'.upper().lower()"
   ]
  },
  {
   "cell_type": "markdown",
   "id": "167be402",
   "metadata": {},
   "source": [
    "Ans8-"
   ]
  },
  {
   "cell_type": "code",
   "execution_count": 9,
   "id": "e27d9841",
   "metadata": {},
   "outputs": [
    {
     "data": {
      "text/plain": [
       "['Remember,', 'remember,', 'the', 'fifth', 'of', 'July.']"
      ]
     },
     "execution_count": 9,
     "metadata": {},
     "output_type": "execute_result"
    }
   ],
   "source": [
    "'Remember, remember, the fifth of July.'.split()"
   ]
  },
  {
   "cell_type": "code",
   "execution_count": 10,
   "id": "eb13409c",
   "metadata": {},
   "outputs": [
    {
     "data": {
      "text/plain": [
       "'There-can-only-one.'"
      ]
     },
     "execution_count": 10,
     "metadata": {},
     "output_type": "execute_result"
    }
   ],
   "source": [
    "'-'.join('There can only one.'.split())"
   ]
  },
  {
   "cell_type": "markdown",
   "id": "b0da73f0",
   "metadata": {},
   "source": [
    "Ans9-"
   ]
  },
  {
   "cell_type": "code",
   "execution_count": 11,
   "id": "7947047d",
   "metadata": {},
   "outputs": [
    {
     "ename": "SyntaxError",
     "evalue": "invalid syntax (870387183.py, line 1)",
     "output_type": "error",
     "traceback": [
      "\u001b[1;36m  Input \u001b[1;32mIn [11]\u001b[1;36m\u001b[0m\n\u001b[1;33m    str.ljust(s, width[, fillchar])\u001b[0m\n\u001b[1;37m                       ^\u001b[0m\n\u001b[1;31mSyntaxError\u001b[0m\u001b[1;31m:\u001b[0m invalid syntax\n"
     ]
    }
   ],
   "source": [
    "str.ljust(s, width[, fillchar])\n",
    "str.rjust(s, width[, fillchar])\n",
    "str.center(s, width[, fillchar])"
   ]
  },
  {
   "cell_type": "markdown",
   "id": "f9a419fd",
   "metadata": {},
   "source": [
    "Ans10- .strip() "
   ]
  }
 ],
 "metadata": {
  "kernelspec": {
   "display_name": "Python 3 (ipykernel)",
   "language": "python",
   "name": "python3"
  },
  "language_info": {
   "codemirror_mode": {
    "name": "ipython",
    "version": 3
   },
   "file_extension": ".py",
   "mimetype": "text/x-python",
   "name": "python",
   "nbconvert_exporter": "python",
   "pygments_lexer": "ipython3",
   "version": "3.9.12"
  }
 },
 "nbformat": 4,
 "nbformat_minor": 5
}
